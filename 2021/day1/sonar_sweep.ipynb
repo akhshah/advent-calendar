{
 "cells": [
  {
   "cell_type": "code",
   "execution_count": 6,
   "id": "45b95c43",
   "metadata": {},
   "outputs": [
    {
     "name": "stdout",
     "output_type": "stream",
     "text": [
      "1557\n"
     ]
    }
   ],
   "source": [
    "num_increases = 0\n",
    "with open(\"input.txt\") as f:\n",
    "    for i, line in enumerate(f):\n",
    "        if i == 0:\n",
    "            prev_val = int(line)\n",
    "            continue\n",
    "        val = int(line)\n",
    "        if val > prev_val:\n",
    "            num_increases = num_increases + 1\n",
    "        \n",
    "        prev_val = val\n",
    "print(num_increases)"
   ]
  },
  {
   "cell_type": "code",
   "execution_count": 14,
   "id": "e23f193b",
   "metadata": {},
   "outputs": [
    {
     "name": "stdout",
     "output_type": "stream",
     "text": [
      "1608\n"
     ]
    }
   ],
   "source": [
    "num_increases = 0\n",
    "\n",
    "sums = []\n",
    "with open(\"input.txt\") as f:\n",
    "    entries = [int(x) for x in f]\n",
    "    \n",
    "    for i, _ in enumerate(entries):\n",
    "        if i == len(entries) - 2:\n",
    "            break\n",
    "        \n",
    "        sums.append(entries[i] + entries[i + 1] + entries[i + 2])\n",
    "        \n",
    "for i, val in enumerate(sums):\n",
    "    if i == 0:\n",
    "        prev_val = val\n",
    "        continue\n",
    "    if val > prev_val:\n",
    "        num_increases = num_increases + 1\n",
    "        \n",
    "    prev_val = val\n",
    "\n",
    "print(num_increases)"
   ]
  }
 ],
 "metadata": {
  "kernelspec": {
   "display_name": "Python 3 (ipykernel)",
   "language": "python",
   "name": "python3"
  },
  "language_info": {
   "codemirror_mode": {
    "name": "ipython",
    "version": 3
   },
   "file_extension": ".py",
   "mimetype": "text/x-python",
   "name": "python",
   "nbconvert_exporter": "python",
   "pygments_lexer": "ipython3",
   "version": "3.9.8"
  }
 },
 "nbformat": 4,
 "nbformat_minor": 5
}
