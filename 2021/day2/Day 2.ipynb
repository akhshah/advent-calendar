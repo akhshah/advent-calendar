{
 "cells": [
  {
   "cell_type": "code",
   "execution_count": 4,
   "id": "bcef8531",
   "metadata": {},
   "outputs": [
    {
     "name": "stdout",
     "output_type": "stream",
     "text": [
      "1970\n",
      "916\n",
      "1804520\n"
     ]
    }
   ],
   "source": [
    "horizontal_position = 0\n",
    "depth = 0\n",
    "with open('input') as f:\n",
    "    for line in f:\n",
    "        direction, amt = line.split(\" \")\n",
    "        val = int(amt)\n",
    "        \n",
    "        if direction == \"forward\":\n",
    "            horizontal_position = horizontal_position + val\n",
    "        \n",
    "        if direction == \"up\":\n",
    "            depth = depth - val\n",
    "        \n",
    "        if direction == \"down\":\n",
    "            depth = depth + val\n",
    "\n",
    "print(horizontal_position)\n",
    "print(depth)\n",
    "\n",
    "print(horizontal_position * depth)"
   ]
  },
  {
   "cell_type": "code",
   "execution_count": null,
   "id": "2158833f",
   "metadata": {},
   "outputs": [],
   "source": [
    "horizontal_position = 0 \n",
    "depth = 0\n",
    "aim = 0\n",
    "\n",
    "with open('input') as f:\n",
    "    for line in f:\n",
    "        direction, amt = line.split(\" \")\n",
    "        val = int(amt)\n",
    "        \n",
    "        if direction == \"forward\":\n",
    "            horizontal_position = horizontal_position + val\n",
    "            depth = aim * val\n",
    "        \n",
    "        if direction == \"up\":\n",
    "            aim = aim - val\n",
    "        \n",
    "        if direction == \"down\":\n",
    "            aim = aim + val\n",
    "        "
   ]
  }
 ],
 "metadata": {
  "kernelspec": {
   "display_name": "Python 3 (ipykernel)",
   "language": "python",
   "name": "python3"
  },
  "language_info": {
   "codemirror_mode": {
    "name": "ipython",
    "version": 3
   },
   "file_extension": ".py",
   "mimetype": "text/x-python",
   "name": "python",
   "nbconvert_exporter": "python",
   "pygments_lexer": "ipython3",
   "version": "3.9.9"
  }
 },
 "nbformat": 4,
 "nbformat_minor": 5
}
