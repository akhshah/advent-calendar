{
 "cells": [
  {
   "cell_type": "code",
   "execution_count": 2,
   "id": "56ab3121",
   "metadata": {},
   "outputs": [],
   "source": [
    "# Import\n",
    "import numpy as np\n",
    "import pandas as pd"
   ]
  },
  {
   "cell_type": "code",
   "execution_count": 35,
   "id": "b50a558a",
   "metadata": {},
   "outputs": [],
   "source": [
    "def find_number(array):\n",
    "    for i, x in enumerate(array):\n",
    "        k = i\n",
    "        while k + 1 < len(array):\n",
    "            k = k + 1\n",
    "            if x + array[k] == 2020:\n",
    "                # print(\"{}, {}\".format(x, array))\n",
    "                return x * array[k]\n",
    "\n",
    "def dict_find_number(array):\n",
    "    nums = {x for x in array}\n",
    "    for i, value in enumerate(array):\n",
    "        complement = 2020 - value\n",
    "        \n",
    "        if complement in nums:\n",
    "            return complement * value\n",
    "\n",
    "def dict_find_triplet(array):\n",
    "    nums = {x for x in array}\n",
    "    for i, value in enumerate(array):\n",
    "        for j, value2 in enumerate(array):\n",
    "            complement = 2020 - value - value2\n",
    "            \n",
    "            if complement in nums:\n",
    "                return complement * value * value2"
   ]
  },
  {
   "cell_type": "code",
   "execution_count": 30,
   "id": "03b8d28d",
   "metadata": {},
   "outputs": [
    {
     "name": "stdout",
     "output_type": "stream",
     "text": [
      "[1944, 1802, 1676, 1921, 1652, 1710, 1952, 1932, 1934, 1823, 1732, 1795, 1681, 1706, 1697, 1919, 1695, 2007, 1889, 1942, 961, 1868, 1878, 1723, 416, 1875, 1831, 1890, 1654, 1956, 1827, 973, 1947, 1688, 1680, 1808, 1998, 1794, 1552, 1935, 1693, 1824, 1711, 1766, 1668, 1968, 1884, 217, 2003, 1869, 1658, 1953, 1829, 1984, 2005, 1973, 428, 1957, 1925, 1719, 1797, 321, 1804, 1971, 922, 1976, 1863, 2008, 1806, 1833, 1809, 1707, 1954, 1811, 1815, 1915, 1799, 1917, 1664, 1937, 1775, 1685, 1756, 1940, 1660, 1859, 1916, 1989, 1763, 1994, 1716, 1689, 1866, 1708, 1670, 1982, 1870, 1847, 1627, 1819, 1786, 1828, 1640, 1699, 1722, 1737, 1882, 1666, 1871, 1703, 1770, 1623, 1837, 1636, 1655, 1930, 1739, 1810, 1805, 1861, 1922, 1993, 1896, 1760, 2002, 1779, 1633, 1972, 1856, 1641, 1718, 2004, 1730, 1826, 1923, 1753, 1735, 660, 1988, 1796, 1990, 1720, 1626, 1788, 1700, 942, 1902, 1943, 1758, 1839, 1924, 938, 1634, 1724, 1983, 1683, 1687, 1904, 1907, 1757, 2001, 1910, 1849, 1781, 1981, 1743, 1851, 2009, 619, 1898, 1891, 1751, 1765, 1959, 1888, 1894, 1759, 389, 1964, 1900, 1742, 1672, 1969, 1978, 1933, 1906, 1807, 1867, 1838, 1960, 1814, 1950, 1918, 1726, 1986, 1746, 2006, 1949, 1784]\n"
     ]
    }
   ],
   "source": [
    "data = pd.read_csv('input')\n",
    "array = data.to_numpy().reshape(array.size,).tolist()"
   ]
  },
  {
   "cell_type": "code",
   "execution_count": 32,
   "id": "9979a784",
   "metadata": {},
   "outputs": [
    {
     "name": "stdout",
     "output_type": "stream",
     "text": [
      "1.27 ms ± 57 µs per loop (mean ± std. dev. of 7 runs, 1000 loops each)\n"
     ]
    }
   ],
   "source": [
    "%%timeit\n",
    "number1 = find_number(array)"
   ]
  },
  {
   "cell_type": "code",
   "execution_count": 33,
   "id": "e3b01ecd",
   "metadata": {},
   "outputs": [
    {
     "name": "stdout",
     "output_type": "stream",
     "text": [
      "9.26 µs ± 153 ns per loop (mean ± std. dev. of 7 runs, 100000 loops each)\n"
     ]
    }
   ],
   "source": [
    "%%timeit\n",
    "number2 = dict_find_number(array)"
   ]
  },
  {
   "cell_type": "code",
   "execution_count": 36,
   "id": "b5ec72b4",
   "metadata": {},
   "outputs": [
    {
     "name": "stdout",
     "output_type": "stream",
     "text": [
      "578 µs ± 42 µs per loop (mean ± std. dev. of 7 runs, 1000 loops each)\n"
     ]
    }
   ],
   "source": [
    "%%timeit\n",
    "number3 = dict_find_triplet(array)"
   ]
  },
  {
   "cell_type": "code",
   "execution_count": null,
   "id": "33b74e5e",
   "metadata": {},
   "outputs": [],
   "source": []
  }
 ],
 "metadata": {
  "kernelspec": {
   "display_name": "Python 3 (ipykernel)",
   "language": "python",
   "name": "python3"
  },
  "language_info": {
   "codemirror_mode": {
    "name": "ipython",
    "version": 3
   },
   "file_extension": ".py",
   "mimetype": "text/x-python",
   "name": "python",
   "nbconvert_exporter": "python",
   "pygments_lexer": "ipython3",
   "version": "3.9.8"
  }
 },
 "nbformat": 4,
 "nbformat_minor": 5
}
